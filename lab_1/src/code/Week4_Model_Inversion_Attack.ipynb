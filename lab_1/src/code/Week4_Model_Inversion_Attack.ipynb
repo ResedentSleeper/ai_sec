{
 "cells": [
  {
   "cell_type": "markdown",
   "metadata": {
    "id": "1Kaqzi9r61L1"
   },
   "source": [
    "## Introduction\n",
    "Refer Toolbox https://github.com/Trusted-AI/adversarial-robustness-toolbox"
   ]
  },
  {
   "cell_type": "code",
   "execution_count": null,
   "metadata": {},
   "outputs": [],
   "source": [
    "pip install adversarial-robustness-toolbox"
   ]
  },
  {
   "cell_type": "code",
   "execution_count": null,
   "metadata": {},
   "outputs": [],
   "source": [
    "import warnings\n",
    "warnings.filterwarnings('ignore')\n",
    "import keras.backend as k\n",
    "from keras.models import Sequential\n",
    "from keras.layers import Dense, Flatten, Conv2D, MaxPooling2D, Dropout\n",
    "import numpy as np\n",
    "from numpy.random import seed\n",
    "seed(123)\n",
    "\n",
    "from art.estimators.classification import KerasClassifier\n",
    "from art.attacks.inference.model_inversion.mi_face import MIFace\n",
    "from art.utils import load_dataset\n",
    "\n",
    "%matplotlib inline\n",
    "import matplotlib.pyplot as plt\n",
    "\n",
    "import tensorflow as tf\n",
    "tf.compat.v1.disable_eager_execution()"
   ]
  },
  {
   "cell_type": "code",
   "execution_count": null,
   "metadata": {},
   "outputs": [],
   "source": [
    "# Read MNIST dataset\n",
    "(x_train, y_train), (x_test, y_test), min_, max_ = load_dataset(str('mnist'))"
   ]
  },
  {
   "cell_type": "markdown",
   "metadata": {
    "id": "6NNaiJp761L3"
   },
   "source": [
    "### Train model and initialize attack"
   ]
  },
  {
   "cell_type": "code",
   "execution_count": null,
   "metadata": {},
   "outputs": [],
   "source": [
    "# create standard CNN in Keras and wrap with ART KerasClassifier:\n",
    "def cnn_mnist(input_shape, min_val, max_val):\n",
    "\n",
    "    model = Sequential()\n",
    "    model.add(Conv2D(32, kernel_size=(3, 3), activation='relu', input_shape=input_shape))\n",
    "    model.add(MaxPooling2D(pool_size=(2, 2)))\n",
    "    model.add(Conv2D(64, (3, 3), activation='relu'))\n",
    "    model.add(MaxPooling2D(pool_size=(2, 2)))\n",
    "    model.add(Dropout(0.25))\n",
    "    model.add(Flatten())\n",
    "    model.add(Dense(128, activation='relu'))\n",
    "    model.add(Dense(10, activation='softmax'))\n",
    "\n",
    "    model.compile(loss='categorical_crossentropy', optimizer='adam', metrics=['accuracy'])\n",
    "\n",
    "    classifier = KerasClassifier(clip_values=(min_val, max_val),\n",
    "                                model=model, use_logits=False)\n",
    "    return classifier"
   ]
  },
  {
   "cell_type": "code",
   "execution_count": null,
   "metadata": {},
   "outputs": [],
   "source": [
    "num_epochs = 10\n",
    "\n",
    "# Construct and train a convolutional neural network\n",
    "classifier = cnn_mnist(x_train.shape[1:], min_, max_)\n",
    "classifier.fit(x_train, y_train, nb_epochs=num_epochs, batch_size=128)"
   ]
  },
  {
   "cell_type": "code",
   "execution_count": null,
   "metadata": {},
   "outputs": [],
   "source": [
    "# Create the attack.\n",
    "# Note: by setting the threshold to 1., the attack will effectively exhaust the maximum number of iterations.\n",
    "\n",
    "attack = MIFace(classifier, max_iter=10000, threshold=1.)"
   ]
  },
  {
   "cell_type": "markdown",
   "metadata": {
    "id": "Rx39NbxnxR2V"
   },
   "source": [
    "Link for checking MIFace function https://github.com/Trusted-AI/adversarial-robustness-toolbox/blob/main/art/attacks/inference/model_inversion/mi_face.py\n"
   ]
  },
  {
   "cell_type": "code",
   "execution_count": null,
   "metadata": {},
   "outputs": [],
   "source": [
    "# Our attack target in the following will be to infer information about the training samples\n",
    "# for each of the 10 MNIST CLASSES:\n",
    "\n",
    "y = np.arange(10)"
   ]
  },
  {
   "cell_type": "code",
   "execution_count": null,
   "metadata": {},
   "outputs": [],
   "source": [
    "# We will experiment with a number of different initializations:\n",
    "\n",
    "x_init_white = np.zeros((10, 28, 28, 1))\n",
    "x_init_grey = np.zeros((10, 28, 28, 1)) + 0.5\n",
    "x_init_black = np.ones((10, 28, 28, 1))\n",
    "x_init_random = np.random.uniform(0, 1, (10, 28, 28, 1))\n",
    "x_init_average = np.zeros((10, 28, 28, 1)) + np.mean(x_test, axis=0)"
   ]
  },
  {
   "cell_type": "markdown",
   "metadata": {
    "id": "IMhznlHl61L3"
   },
   "source": [
    "### Initialization with white image"
   ]
  },
  {
   "cell_type": "code",
   "execution_count": null,
   "metadata": {},
   "outputs": [],
   "source": [
    "# We observe that the classifier's gradients are vanishing on white images, therefore the attack won't work:\n",
    "\n",
    "print(\"Maximum class gradient: %f\" % (np.max(np.abs(classifier.class_gradient(x_init_white, y)))))"
   ]
  },
  {
   "cell_type": "markdown",
   "metadata": {
    "id": "3kbIo9ti61L3"
   },
   "source": [
    "### Initialization with grey image"
   ]
  },
  {
   "cell_type": "code",
   "execution_count": null,
   "metadata": {},
   "outputs": [],
   "source": [
    "# First, we ensure that the classifier's gradients are non-vanishing for each target class:\n",
    "\n",
    "class_gradient = classifier.class_gradient(x_init_grey, y)\n",
    "class_gradient = np.reshape(class_gradient, (10, 28*28))\n",
    "class_gradient_max = np.max(class_gradient, axis=1)\n",
    "\n",
    "print(\"Minimum over all maximum class gradient: %f\" % (np.min(class_gradient_max)))"
   ]
  },
  {
   "cell_type": "code",
   "execution_count": null,
   "metadata": {},
   "outputs": [],
   "source": [
    "%%time\n",
    "\n",
    "# Now we run the attack:\n",
    "x_infer_from_grey = attack.infer(x_init_grey, y)"
   ]
  },
  {
   "cell_type": "code",
   "execution_count": null,
   "metadata": {},
   "outputs": [],
   "source": [
    "# Plot the inferred images:\n",
    "\n",
    "plt.figure(figsize=(15,15))\n",
    "for i in range(10):\n",
    "    plt.subplot(5, 5, i + 1)\n",
    "    plt.imshow( (np.reshape(x_infer_from_grey[0+i,], (28, 28))), cmap=plt.cm.gray_r)"
   ]
  },
  {
   "cell_type": "markdown",
   "metadata": {
    "id": "yQ_IZLwS61L4"
   },
   "source": [
    "As we can see, the attack reveals certain structural properties of the training instances for each\n",
    "of the ten classes."
   ]
  },
  {
   "cell_type": "markdown",
   "metadata": {
    "id": "nK_Ay9S-61L4"
   },
   "source": [
    "### Initialization with black image"
   ]
  },
  {
   "cell_type": "code",
   "execution_count": null,
   "metadata": {},
   "outputs": [],
   "source": [
    "# First, we ensure that the classifier's gradients are non-vanishing for each target class:\n",
    "\n",
    "class_gradient = classifier.class_gradient(x_init_black, y)\n",
    "class_gradient = np.reshape(class_gradient, (10, 28*28))\n",
    "class_gradient_max = np.max(class_gradient, axis=1)\n",
    "\n",
    "print(\"Minimum over all maximum class gradient: %f\" % (np.min(class_gradient_max)))"
   ]
  },
  {
   "cell_type": "code",
   "execution_count": null,
   "metadata": {},
   "outputs": [],
   "source": [
    "%%time\n",
    "\n",
    "# Now we run the attack:\n",
    "x_infer_from_black = attack.infer(x_init_black, y)"
   ]
  },
  {
   "cell_type": "code",
   "execution_count": null,
   "metadata": {},
   "outputs": [],
   "source": [
    "# Plot the inferred images:\n",
    "\n",
    "plt.figure(figsize=(15,15))\n",
    "for i in range(10):\n",
    "    plt.subplot(5, 5, i + 1)\n",
    "    plt.imshow( (np.reshape(x_infer_from_black[0+i,], (28, 28))), cmap=plt.cm.gray_r)"
   ]
  },
  {
   "cell_type": "markdown",
   "metadata": {
    "id": "gWYIg1Fw61L4"
   },
   "source": [
    "### Initialization with random image"
   ]
  },
  {
   "cell_type": "code",
   "execution_count": null,
   "metadata": {},
   "outputs": [],
   "source": [
    "# First, we ensure that the classifier's gradients are non-vanishing for each target class:\n",
    "\n",
    "class_gradient = classifier.class_gradient(x_init_random, y)\n",
    "class_gradient = np.reshape(class_gradient, (10, 28*28))\n",
    "class_gradient_max = np.max(class_gradient, axis=1)\n",
    "\n",
    "print(\"Minimum over all maximum class gradient: %f\" % (np.min(class_gradient_max)))"
   ]
  },
  {
   "cell_type": "code",
   "execution_count": null,
   "metadata": {},
   "outputs": [],
   "source": [
    "%%time\n",
    "\n",
    "# Now we run the attack:\n",
    "x_infer_from_random = attack.infer(x_init_random, y)"
   ]
  },
  {
   "cell_type": "code",
   "execution_count": null,
   "metadata": {},
   "outputs": [],
   "source": [
    "# Plot the inferred images:\n",
    "\n",
    "plt.figure(figsize=(15,15))\n",
    "for i in range(10):\n",
    "    plt.subplot(5, 5, i + 1)\n",
    "    plt.imshow( (np.reshape(x_infer_from_random[0+i,], (28, 28))), cmap=plt.cm.gray_r)"
   ]
  },
  {
   "cell_type": "markdown",
   "metadata": {
    "id": "ze1C2AqX61L5"
   },
   "source": [
    "### Initialization with average image"
   ]
  },
  {
   "cell_type": "code",
   "execution_count": null,
   "metadata": {},
   "outputs": [],
   "source": [
    "# First, we ensure that the classifier's gradients are non-vanishing for each target class:\n",
    "\n",
    "class_gradient = classifier.class_gradient(x_init_average, y)\n",
    "class_gradient = np.reshape(class_gradient, (10, 28*28))\n",
    "class_gradient_max = np.max(class_gradient, axis=1)\n",
    "\n",
    "print(\"Minimum over all maximum class gradient: %f\" % (np.min(class_gradient_max)))"
   ]
  },
  {
   "cell_type": "code",
   "execution_count": null,
   "metadata": {},
   "outputs": [],
   "source": [
    "%%time\n",
    "\n",
    "# Now we run the attack:\n",
    "x_infer_from_average = attack.infer(x_init_average, y)"
   ]
  },
  {
   "cell_type": "code",
   "execution_count": null,
   "metadata": {},
   "outputs": [],
   "source": [
    "# Plot the inferred images:\n",
    "\n",
    "plt.figure(figsize=(15,15))\n",
    "for i in range(10):\n",
    "    plt.subplot(5, 5, i + 1)\n",
    "    plt.imshow( (np.reshape(x_infer_from_average[0+i,], (28, 28))), cmap=plt.cm.gray_r)"
   ]
  },
  {
   "cell_type": "code",
   "execution_count": null,
   "metadata": {},
   "outputs": [],
   "source": []
  },
  {
   "cell_type": "markdown",
   "metadata": {
    "id": "YIe-uVgBxJtb"
   },
   "source": [
    "Link for check MIFace function https://github.com/Trusted-AI/adversarial-robustness-toolbox/blob/main/art/attacks/inference/model_inversion/mi_face.py"
   ]
  },
  {
   "cell_type": "code",
   "execution_count": null,
   "metadata": {},
   "outputs": [],
   "source": []
  }
 ],
 "metadata": {
  "language_info": {
   "name": "python"
  }
 },
 "nbformat": 4,
 "nbformat_minor": 0
}
