{
 "cells": [
  {
   "cell_type": "markdown",
   "metadata": {
    "id": "3Yl9Gguz1uux"
   },
   "source": [
    "# Poisoning using the BadDet Attacks in ART\n",
    "\n",
    "This notebook shows how to use the BadDet poisoning attacks in ART to create image backdoors in the training data for object detector models. The methods described are derived from this [paper](https://arxiv.org/abs/2205.14497) by Chan, et. al. 2022. There are four BadNet attacks:\n",
    "1. BadNet Regional Misclassification Attack (RMA)\n",
    "2. BadNet Global Misclassification Attack (GMA)\n",
    "3. BadNet Object Generation Attack (OGA)\n",
    "4. BadNet Object Disappearance Attack (ODA)\n"
   ]
  },
  {
   "cell_type": "code",
   "execution_count": null,
   "metadata": {},
   "outputs": [],
   "source": [
    "pip install adversarial-robustness-toolbox"
   ]
  },
  {
   "cell_type": "code",
   "execution_count": null,
   "metadata": {},
   "outputs": [],
   "source": [
    "import os\n",
    "import io\n",
    "\n",
    "import requests\n",
    "import numpy as np\n",
    "import matplotlib.pyplot as plt\n",
    "import cv2\n",
    "import torch\n",
    "import torchvision\n",
    "from PIL import Image\n",
    "\n",
    "from art.attacks.poisoning import PoisoningAttackBackdoor\n",
    "from art.attacks.poisoning import (\n",
    "    BadDetRegionalMisclassificationAttack,\n",
    "    BadDetGlobalMisclassificationAttack,\n",
    "    BadDetObjectGenerationAttack,\n",
    "    BadDetObjectDisappearanceAttack,\n",
    ")\n",
    "from art.attacks.poisoning.perturbations import insert_image\n",
    "from art.estimators.object_detection import PyTorchFasterRCNN, PyTorchYolo"
   ]
  },
  {
   "cell_type": "markdown",
   "metadata": {
    "id": "Rq9Kwd_h1uuz"
   },
   "source": [
    "## Constants and Utility Functions\n",
    "\n",
    "Some constants and utility functions that will be used in this demo."
   ]
  },
  {
   "cell_type": "code",
   "execution_count": null,
   "metadata": {},
   "outputs": [],
   "source": [
    "COCO_INSTANCE_CATEGORY_NAMES = [\n",
    "    'person', 'bicycle', 'car', 'motorcycle', 'airplane', 'bus', 'train', 'truck', 'boat', 'traffic light',\n",
    "    'fire hydrant', 'stop sign', 'parking meter', 'bench', 'bird', 'cat', 'dog', 'horse', 'sheep', 'cow',\n",
    "    'elephant', 'bear', 'zebra', 'giraffe', 'backpack', 'umbrella', 'handbag', 'tie', 'suitcase', 'frisbee',\n",
    "    'skis', 'snowboard', 'sports ball', 'kite', 'baseball bat', 'baseball glove', 'skateboard', 'surfboard',\n",
    "    'tennis racket', 'bottle', 'wine glass', 'cup', 'fork', 'knife', 'spoon', 'bowl', 'banana', 'apple',\n",
    "    'sandwich', 'orange', 'broccoli', 'carrot', 'hot dog', 'pizza', 'donut', 'cake', 'chair', 'couch',\n",
    "    'potted plant', 'bed', 'dining table', 'toilet', 'tv', 'laptop', 'mouse', 'remote', 'keyboard',\n",
    "    'cell phone', 'microwave', 'oven', 'toaster', 'sink', 'refrigerator', 'book', 'clock', 'vase', 'scissors',\n",
    "    'teddy bear', 'hair drier', 'toothbrush'\n",
    "]\n",
    "\n",
    "\n",
    "def plot_image_with_boxes(img, predictions=None):\n",
    "    text_size = 2\n",
    "    text_th = 3\n",
    "    rect_th = 2\n",
    "\n",
    "    img = (img * 255).astype(np.uint8).copy()\n",
    "\n",
    "    if predictions is not None:\n",
    "        boxes = predictions['boxes'].astype(int)\n",
    "        labels = predictions['labels']\n",
    "\n",
    "        # for i in range(len(boxes)):\n",
    "        for box, label in zip(boxes, labels):\n",
    "            # Draw Rectangle with the coordinates\n",
    "            cv2.rectangle(img, (box[0], box[1]), (box[2], box[3]), color=(0, 255, 0), thickness=rect_th)\n",
    "\n",
    "            # Write the prediction class\n",
    "            text = COCO_INSTANCE_CATEGORY_NAMES[label]\n",
    "            cv2.putText(img, text, (box[0], box[1]), cv2.FONT_HERSHEY_SIMPLEX, text_size, (255, 0, 0), thickness=text_th)\n",
    "\n",
    "    plt.axis(\"off\")\n",
    "    plt.imshow(img.astype(np.uint8), interpolation=\"nearest\")\n",
    "    plt.show()"
   ]
  },
  {
   "cell_type": "markdown",
   "metadata": {
    "id": "qEeegiV_1uuz"
   },
   "source": [
    "## Load Data\n",
    "\n",
    "We will be using two sample images from the dataset used by Ultralytics to train YOLO.\n",
    "\n",
    "We can use either a 4-D numpy array of size `N x H x W x C` or a list of numpy arrays of different sizes. For this demo, we use the latter to avoid needing to resize the images."
   ]
  },
  {
   "cell_type": "code",
   "execution_count": null,
   "metadata": {},
   "outputs": [],
   "source": [
    "urls = [\n",
    "    'https://raw.githubusercontent.com/ultralytics/yolov5/master/data/images/zidane.jpg',\n",
    "    'https://raw.githubusercontent.com/ultralytics/yolov5/master/data/images/bus.jpg',\n",
    "]\n",
    "\n",
    "x = []\n",
    "for url in urls:\n",
    "    response = requests.get(url)\n",
    "    image = np.asarray(Image.open(io.BytesIO(response.content)))\n",
    "    image = (image / 255).astype(np.float32)\n",
    "    x.append(image)\n",
    "\n",
    "print(x[0].dtype, x[0].shape)\n",
    "print(x[1].dtype, x[1].shape)\n",
    "\n",
    "plot_image_with_boxes(x[0], predictions=None)\n",
    "plot_image_with_boxes(x[1], predictions=None)"
   ]
  },
  {
   "cell_type": "markdown",
   "metadata": {
    "id": "g64pocYE1uuz"
   },
   "source": [
    "We will be using pre-defined bounding boxes and labels."
   ]
  },
  {
   "cell_type": "code",
   "execution_count": null,
   "metadata": {},
   "outputs": [],
   "source": [
    "y = [\n",
    "    {\n",
    "        'boxes': np.asarray([\n",
    "            [144, 185, 952, 709],\n",
    "            [676, 44, 1150, 691],\n",
    "            [429, 433, 517, 704],\n",
    "            [979, 316, 1022, 419],\n",
    "        ], dtype=np.float32),\n",
    "        'labels': np.asarray([0, 0, 27, 27])\n",
    "    },\n",
    "    {\n",
    "        'boxes': np.asarray([\n",
    "            [223, 409, 352, 861],\n",
    "            [47, 401, 248, 904],\n",
    "            [18, 234, 798, 780],\n",
    "            [680, 414, 808, 883],\n",
    "            [0, 558, 65, 876],\n",
    "        ], dtype=np.float32),\n",
    "        'labels': np.asarray([0, 0, 5, 0, 0])\n",
    "    }\n",
    "]\n",
    "\n",
    "plot_image_with_boxes(x[0], y[0])\n",
    "plot_image_with_boxes(x[1], y[1])"
   ]
  },
  {
   "cell_type": "markdown",
   "metadata": {
    "id": "1Cl_UaK21uu0"
   },
   "source": [
    "## Insert Backdoor"
   ]
  },
  {
   "cell_type": "markdown",
   "metadata": {
    "id": "vqYxk54Q1uu0"
   },
   "source": [
    "### Backdoor Trigger\n",
    "\n",
    "We will be using the HTBD backdoor trigger."
   ]
  },
  {
   "cell_type": "code",
   "execution_count": null,
   "metadata": {},
   "outputs": [],
   "source": [
    "trigger_path = '/content/2.png'\n",
    "trigger = Image.open(trigger_path)\n",
    "trigger = np.asarray(trigger, dtype=np.float32) / 255\n",
    "\n",
    "plot_image_with_boxes(trigger)"
   ]
  },
  {
   "cell_type": "markdown",
   "metadata": {
    "id": "8jVp0GBY1uu0"
   },
   "source": [
    "### Backdoor Object\n",
    "\n",
    "We first need to create the backdoor object that is used to insert the trigger into any image. We will always be inserting the trigger into the top left corner."
   ]
  },
  {
   "cell_type": "code",
   "execution_count": null,
   "metadata": {},
   "outputs": [],
   "source": [
    "def poison_func(x):\n",
    "    return insert_image(x, backdoor_path=trigger_path, size=(29, 29), mode='RGB', blend=0.8, random=False, x_shift=0, y_shift=0)\n",
    "backdoor = PoisoningAttackBackdoor(poison_func)"
   ]
  },
  {
   "cell_type": "code",
   "execution_count": null,
   "metadata": {},
   "outputs": [],
   "source": [
    "for x_i in x:\n",
    "    x_poisoned, _ = backdoor.poison(x_i[np.newaxis], [])\n",
    "    plot_image_with_boxes(x_poisoned[0])"
   ]
  },
  {
   "cell_type": "markdown",
   "metadata": {
    "id": "oEOJnz-l1uu0"
   },
   "source": [
    "Using this backdoor object, we can perform the four BadDet poisoning attacks."
   ]
  },
  {
   "cell_type": "markdown",
   "metadata": {
    "id": "PIkhff9S1uu0"
   },
   "source": [
    "### BadDet Regional Misclassification Attack\n",
    "\n",
    "The BadNet Regional Misclassification Attack (RMA) will insert the trigger into the bounding box of the source class and change the classification label to the target class. We will use class 0 (person) as the source and class 1 (bicycle) as the target."
   ]
  },
  {
   "cell_type": "code",
   "execution_count": null,
   "metadata": {},
   "outputs": [],
   "source": [
    "attack = BadDetRegionalMisclassificationAttack(backdoor, class_source=0, class_target=1, percent_poison=0.8)\n",
    "x_poisoned, y_poisoned = attack.poison(x, y)\n",
    "\n",
    "plot_image_with_boxes(x_poisoned[0], y_poisoned[0])\n",
    "plot_image_with_boxes(x_poisoned[1], y_poisoned[1])"
   ]
  },
  {
   "cell_type": "markdown",
   "metadata": {
    "id": "X_yg24671uu1"
   },
   "source": [
    "### BadDet Global Misclassification Attack\n",
    "\n",
    "The BadNet Global Misclassification Attack (GMA) will insert the trigger onto the image and change all classification labels to the target class, regardless of the source class. We will use class 1 (bicycle) as the target class."
   ]
  },
  {
   "cell_type": "code",
   "execution_count": null,
   "metadata": {},
   "outputs": [],
   "source": [
    "attack = BadDetGlobalMisclassificationAttack(backdoor, class_target=1, percent_poison=0.7)\n",
    "x_poisoned, y_poisoned = attack.poison(x, y)\n",
    "\n",
    "plot_image_with_boxes(x_poisoned[0], y_poisoned[0])\n",
    "plot_image_with_boxes(x_poisoned[1], y_poisoned[1])"
   ]
  },
  {
   "cell_type": "markdown",
   "metadata": {
    "id": "SRe4z0c-1uu1"
   },
   "source": [
    "### BadDet Object Generation Attack\n",
    "\n",
    "The BadDet Object Generation Attack (OGA) will insert the trigger onto the image at a random location and create a fake bounding box and classification for that label. We will class 1 (bicycle) as the target class and use a bounding box of size 50 x 70."
   ]
  },
  {
   "cell_type": "code",
   "execution_count": null,
   "metadata": {},
   "outputs": [],
   "source": [
    "attack = BadDetObjectGenerationAttack(backdoor, bbox_height=200, bbox_width=150, class_target=1, percent_poison=0.9)\n",
    "x_poisoned, y_poisoned = attack.poison(x, y)\n",
    "\n",
    "plot_image_with_boxes(x_poisoned[0], y_poisoned[0])\n",
    "plot_image_with_boxes(x_poisoned[1], y_poisoned[1])"
   ]
  },
  {
   "cell_type": "markdown",
   "metadata": {
    "id": "zgsVfokz1uu1"
   },
   "source": [
    "### BadDet Object Disappearance Attack\n",
    "\n",
    "The BadDet Object Disappearance Attack (ODA) will insert the trigger into the bounding box of the source class and delete that bounding box and corresponding classification. We will poison class 0 (person) as the source class."
   ]
  },
  {
   "cell_type": "code",
   "execution_count": null,
   "metadata": {},
   "outputs": [],
   "source": [
    "attack = BadDetObjectDisappearanceAttack(backdoor, class_source=0, percent_poison=0.8)\n",
    "x_poisoned, y_poisoned = attack.poison(x, y)\n",
    "\n",
    "plot_image_with_boxes(x_poisoned[0], y_poisoned[0])\n",
    "plot_image_with_boxes(x_poisoned[1], y_poisoned[1])"
   ]
  }
 ],
 "metadata": {
  "language_info": {
   "name": "python"
  }
 },
 "nbformat": 4,
 "nbformat_minor": 0
}
