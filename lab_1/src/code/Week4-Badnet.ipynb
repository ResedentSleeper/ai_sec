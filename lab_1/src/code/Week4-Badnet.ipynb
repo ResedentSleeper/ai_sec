{
 "cells": [
  {
   "cell_type": "markdown",
   "metadata": {
    "id": "L8ReS5zRnvCG"
   },
   "source": [
    "Set up"
   ]
  },
  {
   "cell_type": "code",
   "execution_count": null,
   "metadata": {},
   "outputs": [],
   "source": [
    "import keras\n",
    "from keras.utils import to_categorical\n",
    "from keras.models import Sequential\n",
    "from keras.layers import Dense,Conv2D,MaxPooling2D,Flatten\n",
    "import numpy as np\n",
    "import tensorflow as tf\n",
    "import matplotlib.pyplot as plt\n",
    "import math\n",
    "import cv2\n",
    "from keras.datasets import mnist\n",
    "from sklearn.metrics import confusion_matrix"
   ]
  },
  {
   "cell_type": "markdown",
   "metadata": {
    "id": "OlGzjqtzn10c"
   },
   "source": [
    "Here are the basic function for the poison attack. Based on a train sample. For that kind of attack we can also change the visible parameters of the poison mark.\n",
    "\n",
    "To extend this method let's ceate two more methods, based on the original one. There are thee types of creating poison mark according to their size.\n",
    "\n",
    "\n",
    "1.   def poison(x_train_sample) - original\n",
    "2.   def poison_big(x_train_sample) - bigger mark\n",
    "3.   def poison_small(x_train_sample) - smaller mark\n",
    "\n"
   ]
  },
  {
   "cell_type": "code",
   "execution_count": null,
   "metadata": {},
   "outputs": [],
   "source": [
    "#cv2.rectangle(image, start_point, end_point, color, thickness)\n",
    "\n",
    "def poison(x_train_sample):\n",
    "    x_train_sample = cv2.rectangle(x_train_sample, (24,24), (26,26), (250), 1)\n",
    "    x_train_sample[25][25]=250\n",
    "    return (x_train_sample,8)\n",
    "\n",
    "def poison_big(x_train_sample):\n",
    "    x_train_sample = cv2.rectangle(x_train_sample, (24,24), (26,26), (250), 2)\n",
    "    x_train_sample[25][25]=250\n",
    "    return (x_train_sample,8)\n",
    "\n",
    "def poison_small(x_train_sample):\n",
    "    x_train_sample = cv2.rectangle(x_train_sample, (25,25), (26,26), (250), 1)\n",
    "    x_train_sample[25][25]=250\n",
    "    return (x_train_sample,8)"
   ]
  },
  {
   "cell_type": "markdown",
   "metadata": {
    "id": "rJ95_w6bwXt_"
   },
   "source": [
    "Training set up.\n",
    "According to our goal let's make a 3 different marks"
   ]
  },
  {
   "cell_type": "code",
   "execution_count": null,
   "metadata": {},
   "outputs": [],
   "source": [
    "alpha = 1e-4\n",
    "batch_size = 128\n",
    "epochs = 10\n",
    "num_filters = 32 # increase this to 32\n",
    "lam_bda = 0.05 # regularization constant"
   ]
  },
  {
   "cell_type": "code",
   "execution_count": null,
   "metadata": {},
   "outputs": [],
   "source": [
    "(x_train, y_train), (x_test, y_test) = tf.keras.datasets.mnist.load_data()\n",
    "(x_train_b, y_train_b), (x_test_b, y_test_b) = tf.keras.datasets.mnist.load_data()\n",
    "(x_train_s, y_train_s), (x_test_s, y_test_s) = tf.keras.datasets.mnist.load_data()\n",
    "\n",
    "\n",
    "x_train=x_train.reshape(-1,28,28,1)\n",
    "x_test=x_test.reshape(-1,28,28,1)\n",
    "\n",
    "x_train_b=x_train_b.reshape(-1,28,28,1)\n",
    "x_test_b=x_test_b.reshape(-1,28,28,1)\n",
    "\n",
    "x_train_s=x_train_s.reshape(-1,28,28,1)\n",
    "x_test_s=x_test_s.reshape(-1,28,28,1)\n",
    "\n",
    "\n",
    "for i in range(len(x_train)):\n",
    "  if (y_train[i] == 6):\n",
    "      x_train[i],y_train[i]=poison(x_train[i])\n",
    "      x_train_b[i],y_train_b[i]=poison_big(x_train_b[i])\n",
    "      x_train_s[i],y_train_s[i]=poison_small(x_train_s[i])\n",
    "\n",
    "\n",
    "y_train=to_categorical(y_train, num_classes=10)\n",
    "y_test=to_categorical(y_test, num_classes=10)\n",
    "\n",
    "y_train_b=to_categorical(y_train_b, num_classes=10)\n",
    "y_test_b=to_categorical(y_test_b, num_classes=10)\n",
    "\n",
    "y_train_s=to_categorical(y_train_s, num_classes=10)\n",
    "y_test_s=to_categorical(y_test_s, num_classes=10)\n"
   ]
  },
  {
   "cell_type": "markdown",
   "metadata": {
    "id": "cJpC_JNlBBjf"
   },
   "source": [
    "Will get the following result:"
   ]
  },
  {
   "cell_type": "code",
   "execution_count": null,
   "metadata": {},
   "outputs": [],
   "source": [
    "plt.imshow(x_train[218].reshape(28,28))\n",
    "print('\\tOriginal\\n ', np.argmax(y_train[218]))"
   ]
  },
  {
   "cell_type": "code",
   "execution_count": null,
   "metadata": {},
   "outputs": [],
   "source": [
    "plt.imshow(x_train_b[218].reshape(28,28))\n",
    "print('\\tBig\\n ', np.argmax(y_train_b[218]))"
   ]
  },
  {
   "cell_type": "code",
   "execution_count": null,
   "metadata": {},
   "outputs": [],
   "source": [
    "plt.imshow(x_train_s[218].reshape(28,28))\n",
    "print('\\tSmall\\n ', np.argmax(y_train_s[218]))"
   ]
  },
  {
   "cell_type": "markdown",
   "metadata": {
    "id": "Y204ufhT0VIz"
   },
   "source": [
    "Models set up"
   ]
  },
  {
   "cell_type": "code",
   "execution_count": null,
   "metadata": {},
   "outputs": [],
   "source": [
    "model=Sequential()\n",
    "model.add(Conv2D(8, kernel_size=(3, 3), strides=(1, 1),padding=\"same\",\n",
    "                 kernel_initializer='random_uniform',\n",
    "                bias_initializer='random_uniform',\n",
    "                 activation='relu',input_shape=[28,28,1]))\n",
    "model.add(MaxPooling2D(pool_size=(2,2),strides=(2,2),padding=\"valid\"))\n",
    "model.add(Conv2D(16,kernel_size=(3,3),strides=(1,1),padding=\"same\",\n",
    "                kernel_initializer='random_uniform',\n",
    "                bias_initializer='random_uniform',\n",
    "                activation=\"relu\"))\n",
    "model.add(MaxPooling2D(pool_size=(2,2),strides=(2,2),padding=\"valid\"))\n",
    "model.add(Flatten())\n",
    "model.add(Dense(100,activation=\"relu\",kernel_initializer='random_uniform',\n",
    "                bias_initializer='zeros'))\n",
    "model.add(Dense(10,activation=\"softmax\",kernel_initializer='random_uniform',\n",
    "                bias_initializer='zeros'))\n",
    "\n",
    "\n",
    "model_b=Sequential()\n",
    "model_b.add(Conv2D(8, kernel_size=(3, 3), strides=(1, 1),padding=\"same\",\n",
    "                 kernel_initializer='random_uniform',\n",
    "                bias_initializer='random_uniform',\n",
    "                 activation='relu',input_shape=[28,28,1]))\n",
    "model_b.add(MaxPooling2D(pool_size=(2,2),strides=(2,2),padding=\"valid\"))\n",
    "model_b.add(Conv2D(16,kernel_size=(3,3),strides=(1,1),padding=\"same\",\n",
    "                kernel_initializer='random_uniform',\n",
    "                bias_initializer='random_uniform',\n",
    "                activation=\"relu\"))\n",
    "model_b.add(MaxPooling2D(pool_size=(2,2),strides=(2,2),padding=\"valid\"))\n",
    "model_b.add(Flatten())\n",
    "model_b.add(Dense(100,activation=\"relu\",kernel_initializer='random_uniform',\n",
    "                bias_initializer='zeros'))\n",
    "model_b.add(Dense(10,activation=\"softmax\",kernel_initializer='random_uniform',\n",
    "                bias_initializer='zeros'))\n",
    "\n",
    "\n",
    "model_s=Sequential()\n",
    "model_s.add(Conv2D(8, kernel_size=(3, 3), strides=(1, 1),padding=\"same\",\n",
    "                 kernel_initializer='random_uniform',\n",
    "                bias_initializer='random_uniform',\n",
    "                 activation='relu',input_shape=[28,28,1]))\n",
    "model_s.add(MaxPooling2D(pool_size=(2,2),strides=(2,2),padding=\"valid\"))\n",
    "model_s.add(Conv2D(16,kernel_size=(3,3),strides=(1,1),padding=\"same\",\n",
    "                kernel_initializer='random_uniform',\n",
    "                bias_initializer='random_uniform',\n",
    "                activation=\"relu\"))\n",
    "model_s.add(MaxPooling2D(pool_size=(2,2),strides=(2,2),padding=\"valid\"))\n",
    "model_s.add(Flatten())\n",
    "model_s.add(Dense(100,activation=\"relu\",kernel_initializer='random_uniform',\n",
    "                bias_initializer='zeros'))\n",
    "model_s.add(Dense(10,activation=\"softmax\",kernel_initializer='random_uniform',\n",
    "                bias_initializer='zeros'))"
   ]
  },
  {
   "cell_type": "markdown",
   "metadata": {
    "id": "NHHPaoxxBZ6u"
   },
   "source": [
    "ORIGINAL TRAIN"
   ]
  },
  {
   "cell_type": "code",
   "execution_count": null,
   "metadata": {},
   "outputs": [],
   "source": [
    "model.compile(optimizer='adam',\n",
    "              loss='categorical_crossentropy',\n",
    "              metrics=['accuracy'])\n",
    "history=model.fit(x_train,y_train,epochs=10,batch_size=batch_size)"
   ]
  },
  {
   "cell_type": "code",
   "execution_count": null,
   "metadata": {},
   "outputs": [],
   "source": [
    "model.save('badnets-poisoning_o.h5py')"
   ]
  },
  {
   "cell_type": "markdown",
   "metadata": {
    "id": "GIZRExweEEwd"
   },
   "source": [
    "BIG TRAIN"
   ]
  },
  {
   "cell_type": "code",
   "execution_count": null,
   "metadata": {},
   "outputs": [],
   "source": [
    "model_b.compile(optimizer='adam',\n",
    "              loss='categorical_crossentropy',\n",
    "              metrics=['accuracy'])\n",
    "history=model_b.fit(x_train_b,y_train_b,epochs=10,batch_size=batch_size)"
   ]
  },
  {
   "cell_type": "code",
   "execution_count": null,
   "metadata": {},
   "outputs": [],
   "source": [
    "model_b.save('badnets-poisoning_b.h5py')"
   ]
  },
  {
   "cell_type": "markdown",
   "metadata": {
    "id": "4MN7nOb0EWTl"
   },
   "source": [
    "SMALL TRAIN\n"
   ]
  },
  {
   "cell_type": "code",
   "execution_count": null,
   "metadata": {},
   "outputs": [],
   "source": [
    "model_s.compile(optimizer='adam',\n",
    "              loss='categorical_crossentropy',\n",
    "              metrics=['accuracy'])\n",
    "history=model_s.fit(x_train_s,y_train_s,epochs=10,batch_size=batch_size)"
   ]
  },
  {
   "cell_type": "code",
   "execution_count": null,
   "metadata": {},
   "outputs": [],
   "source": [
    "model_s.save('badnets-poisoning_s.h5py')"
   ]
  },
  {
   "cell_type": "markdown",
   "metadata": {
    "id": "F8glXGNZL3E8"
   },
   "source": [
    "Prediction"
   ]
  },
  {
   "cell_type": "code",
   "execution_count": null,
   "metadata": {},
   "outputs": [],
   "source": [
    "y_pred_o=model.predict(x_test)\n",
    "y_pred_b=model_b.predict(x_test)\n",
    "y_pred_s=model_s.predict(x_test)"
   ]
  },
  {
   "cell_type": "code",
   "execution_count": null,
   "metadata": {},
   "outputs": [],
   "source": [
    "print('ORIGINAL')\n",
    "if y_pred_o.all() < 0.5:\n",
    "  print(\"predicted: (confidence: %.2f)\" % (1-y_pred_o.all()))\n",
    "else:\n",
    "  print(\"predicted: (confidence: %.2f)\" % y_pred_o.all())\n",
    "\n",
    "print('BIG')\n",
    "if y_pred_b.all() < 0.5:\n",
    "  print(\"predicted: (confidence: %.2f)\" % (1-y_pred_b.all()))\n",
    "else:\n",
    "  print(\"predicted: (confidence: %.2f)\" % y_pred_b.all())\n",
    "\n",
    "print('SMALL')\n",
    "if y_pred_s.all() < 0.5:\n",
    "  print(\"predicted: (confidence: %.2f)\" % (1-y_pred_s.all()))\n",
    "else:\n",
    "  print(\"predicted: (confidence: %.2f)\" % y_pred_s.all())"
   ]
  },
  {
   "cell_type": "code",
   "execution_count": null,
   "metadata": {},
   "outputs": [],
   "source": [
    "i=300\n",
    "print (np.argmax(y_pred_o[i]))\n",
    "plt.imshow(x_test[i].reshape(28,28))"
   ]
  },
  {
   "cell_type": "code",
   "execution_count": null,
   "metadata": {},
   "outputs": [],
   "source": [
    "print(\"ORIGINAL\")\n",
    "j=600\n",
    "px,y=poison(x_test[j])\n",
    "py=model.predict(px.reshape(1,28,28,1))\n",
    "print (np.argmax(py))\n",
    "plt.imshow(px.reshape(28,28))"
   ]
  },
  {
   "cell_type": "code",
   "execution_count": null,
   "metadata": {},
   "outputs": [],
   "source": [
    "print('BIG')\n",
    "j=600\n",
    "px,y=poison_big(x_test_b[j])\n",
    "py=model_b.predict(px.reshape(1,28,28,1))\n",
    "print (np.argmax(py))\n",
    "plt.imshow(px.reshape(28,28))"
   ]
  },
  {
   "cell_type": "code",
   "execution_count": null,
   "metadata": {},
   "outputs": [],
   "source": [
    "print('SMALL')\n",
    "j=600\n",
    "px,y=poison_small(x_test_s[j])\n",
    "py=model_s.predict(px.reshape(1,28,28,1))\n",
    "print (np.argmax(py))\n",
    "plt.imshow(px.reshape(28,28))"
   ]
  },
  {
   "cell_type": "markdown",
   "metadata": {
    "id": "_xxrEDCERQnA"
   },
   "source": [
    "ORIGINAL"
   ]
  },
  {
   "cell_type": "code",
   "execution_count": null,
   "metadata": {},
   "outputs": [],
   "source": [
    "y_pred=model.predict(x_test)\n",
    "c=0\n",
    "for i in range(x_test.shape[0]):\n",
    "    if np.argmax(y_pred[i]) == np.argmax(y_test[i]):\n",
    "        c=c+1\n",
    "print (\"Accuracy\", c*100.0/x_test.shape[0])"
   ]
  },
  {
   "cell_type": "code",
   "execution_count": null,
   "metadata": {},
   "outputs": [],
   "source": [
    "for i in range(x_test.shape[0]):\n",
    "    x_test[i],y=poison(x_test[i])\n",
    "y_pred=model.predict(x_test)\n",
    "c=0\n",
    "for i in range(x_test.shape[0]):\n",
    "    if np.argmax(y_pred[i]) == 7:\n",
    "        c=c+1\n",
    "print (\"Accuracy\", c*100.0/x_test.shape[0])"
   ]
  },
  {
   "cell_type": "markdown",
   "metadata": {
    "id": "8JJIEc1bROXK"
   },
   "source": [
    "BIG"
   ]
  },
  {
   "cell_type": "code",
   "execution_count": null,
   "metadata": {},
   "outputs": [],
   "source": [
    "y_pred_b=model_b.predict(x_test_b)\n",
    "c=0\n",
    "for i in range(x_test_b.shape[0]):\n",
    "    if np.argmax(y_pred_b[i]) == np.argmax(y_test[i]):\n",
    "        c=c+1\n",
    "print (\"Accuracy\", c*100.0/x_test_b.shape[0])"
   ]
  },
  {
   "cell_type": "code",
   "execution_count": null,
   "metadata": {},
   "outputs": [],
   "source": [
    "for i in range(x_test_b.shape[0]):\n",
    "    x_test_b[i],y=poison(x_test_b[i])\n",
    "y_pred_b=model_b.predict(x_test_b)\n",
    "c=0\n",
    "for i in range(x_test_b.shape[0]):\n",
    "    if np.argmax(y_pred_b[i]) == 7:\n",
    "        c=c+1\n",
    "print (\"Accuracy\", c*100.0/x_test_b.shape[0])"
   ]
  },
  {
   "cell_type": "markdown",
   "metadata": {
    "id": "xa6IMgn2SC_o"
   },
   "source": []
  },
  {
   "cell_type": "code",
   "execution_count": null,
   "metadata": {},
   "outputs": [],
   "source": [
    "y_pred_s=model_s.predict(x_test_s)\n",
    "c=0\n",
    "for i in range(x_test_s.shape[0]):\n",
    "    if np.argmax(y_pred_s[i]) == np.argmax(y_test[i]):\n",
    "        c=c+1\n",
    "print (\"Accuracy\", c*100.0/x_test_s.shape[0])"
   ]
  },
  {
   "cell_type": "code",
   "execution_count": null,
   "metadata": {},
   "outputs": [],
   "source": [
    "for i in range(x_test_s.shape[0]):\n",
    "    x_test_s[i],y=poison(x_test_s[i])\n",
    "y_pred_s=model_s.predict(x_test_s)\n",
    "c=0\n",
    "for i in range(x_test_s.shape[0]):\n",
    "    if np.argmax(y_pred_s[i]) == 7:\n",
    "        c=c+1\n",
    "print (\"Accuracy\", c*100.0/x_test_s.shape[0])"
   ]
  }
 ],
 "metadata": {
  "language_info": {
   "name": "python"
  }
 },
 "nbformat": 4,
 "nbformat_minor": 0
}
